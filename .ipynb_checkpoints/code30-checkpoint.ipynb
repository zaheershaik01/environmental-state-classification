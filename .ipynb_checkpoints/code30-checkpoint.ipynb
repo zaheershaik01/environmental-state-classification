{
 "cells": [
  {
   "cell_type": "markdown",
   "id": "d0d6a883",
   "metadata": {},
   "source": [
    "# Environmental Condition Monitoring Using AI models form IoT Sensor"
   ]
  },
  {
   "cell_type": "code",
   "execution_count": 39,
   "id": "672e3d6e",
   "metadata": {
    "_cell_guid": "b1076dfc-b9ad-4769-8c92-a6c4dae69d19",
    "_uuid": "8f2839f25d086af736a60e9eeb907d3b93b6e0e5",
    "execution": {
     "iopub.execute_input": "2021-07-30T17:17:37.662027Z",
     "iopub.status.busy": "2021-07-30T17:17:37.661028Z",
     "iopub.status.idle": "2021-07-30T17:17:37.674025Z",
     "shell.execute_reply": "2021-07-30T17:17:37.674575Z",
     "shell.execute_reply.started": "2021-07-30T16:46:07.535722Z"
    },
    "papermill": {
     "duration": 0.069869,
     "end_time": "2021-07-30T17:17:37.674873",
     "exception": false,
     "start_time": "2021-07-30T17:17:37.605004",
     "status": "completed"
    },
    "tags": []
   },
   "outputs": [],
   "source": [
    "import numpy as np # linear algebra\n",
    "import pandas as pd # data processing, CSV file I/O (e.g. pd.read_csv)\n",
    "import os\n",
    "import matplotlib.pyplot as plt\n",
    "import seaborn as sns\n",
    "from sklearn.tree import DecisionTreeClassifier\n",
    "from sklearn.ensemble import RandomForestClassifier\n",
    "from sklearn.metrics import classification_report\n",
    "from sklearn.metrics import confusion_matrix,accuracy_score\n",
    "import warnings\n",
    "warnings.filterwarnings('ignore')"
   ]
  },
  {
   "cell_type": "markdown",
   "id": "e681f745",
   "metadata": {
    "papermill": {
     "duration": 0.026162,
     "end_time": "2021-07-30T17:17:38.916240",
     "exception": false,
     "start_time": "2021-07-30T17:17:38.890078",
     "status": "completed"
    },
    "tags": []
   },
   "source": [
    "# Loading Data Set and Basic Data Exploration\n",
    "\n",
    "In this part I load dataset with pandas library and do some basic exploration to the dataset. In There we have found that dataset has 405184 rows and 8 columns. There are following columns in the dataset:\n",
    "          \n",
    "          1. ts (timestamp) ==> epoch\n",
    "          2. device id ==> object\n",
    "          3. CO (Carbon Monoxide) in ppm ==> float64\n",
    "          4. humidity in percent ==> float64\n",
    "          5. light ==> bool\n",
    "          6. LPG (liquified Petroleum Gas) in ppm ==> float64\n",
    "          7. motion ==> bool\n",
    "          8. smoke in ppm ==> float64\n",
    "          9. Temperature in Fahrenheit ==> float64\n",
    "          \n",
    "There are no missing value in this datasset. "
   ]
  },
  {
   "cell_type": "code",
   "execution_count": 2,
   "id": "75ef769e",
   "metadata": {
    "execution": {
     "iopub.execute_input": "2021-07-30T17:17:38.971991Z",
     "iopub.status.busy": "2021-07-30T17:17:38.970985Z",
     "iopub.status.idle": "2021-07-30T17:17:40.466306Z",
     "shell.execute_reply": "2021-07-30T17:17:40.467017Z",
     "shell.execute_reply.started": "2021-07-30T16:46:08.432608Z"
    },
    "papermill": {
     "duration": 1.524789,
     "end_time": "2021-07-30T17:17:40.467190",
     "exception": false,
     "start_time": "2021-07-30T17:17:38.942401",
     "status": "completed"
    },
    "tags": []
   },
   "outputs": [
    {
     "data": {
      "text/html": [
       "<div>\n",
       "<style scoped>\n",
       "    .dataframe tbody tr th:only-of-type {\n",
       "        vertical-align: middle;\n",
       "    }\n",
       "\n",
       "    .dataframe tbody tr th {\n",
       "        vertical-align: top;\n",
       "    }\n",
       "\n",
       "    .dataframe thead th {\n",
       "        text-align: right;\n",
       "    }\n",
       "</style>\n",
       "<table border=\"1\" class=\"dataframe\">\n",
       "  <thead>\n",
       "    <tr style=\"text-align: right;\">\n",
       "      <th></th>\n",
       "      <th>device</th>\n",
       "      <th>co</th>\n",
       "      <th>humidity</th>\n",
       "      <th>light</th>\n",
       "      <th>lpg</th>\n",
       "      <th>motion</th>\n",
       "      <th>smoke</th>\n",
       "      <th>temp</th>\n",
       "    </tr>\n",
       "    <tr>\n",
       "      <th>ts</th>\n",
       "      <th></th>\n",
       "      <th></th>\n",
       "      <th></th>\n",
       "      <th></th>\n",
       "      <th></th>\n",
       "      <th></th>\n",
       "      <th></th>\n",
       "      <th></th>\n",
       "    </tr>\n",
       "  </thead>\n",
       "  <tbody>\n",
       "    <tr>\n",
       "      <th>1.594512e+09</th>\n",
       "      <td>b8:27:eb:bf:9d:51</td>\n",
       "      <td>0.004956</td>\n",
       "      <td>51.000000</td>\n",
       "      <td>False</td>\n",
       "      <td>0.007651</td>\n",
       "      <td>False</td>\n",
       "      <td>0.020411</td>\n",
       "      <td>22.700000</td>\n",
       "    </tr>\n",
       "    <tr>\n",
       "      <th>1.594512e+09</th>\n",
       "      <td>00:0f:00:70:91:0a</td>\n",
       "      <td>0.002840</td>\n",
       "      <td>76.000000</td>\n",
       "      <td>False</td>\n",
       "      <td>0.005114</td>\n",
       "      <td>False</td>\n",
       "      <td>0.013275</td>\n",
       "      <td>19.700001</td>\n",
       "    </tr>\n",
       "    <tr>\n",
       "      <th>1.594512e+09</th>\n",
       "      <td>b8:27:eb:bf:9d:51</td>\n",
       "      <td>0.004976</td>\n",
       "      <td>50.900000</td>\n",
       "      <td>False</td>\n",
       "      <td>0.007673</td>\n",
       "      <td>False</td>\n",
       "      <td>0.020475</td>\n",
       "      <td>22.600000</td>\n",
       "    </tr>\n",
       "    <tr>\n",
       "      <th>1.594512e+09</th>\n",
       "      <td>1c:bf:ce:15:ec:4d</td>\n",
       "      <td>0.004403</td>\n",
       "      <td>76.800003</td>\n",
       "      <td>True</td>\n",
       "      <td>0.007023</td>\n",
       "      <td>False</td>\n",
       "      <td>0.018628</td>\n",
       "      <td>27.000000</td>\n",
       "    </tr>\n",
       "    <tr>\n",
       "      <th>1.594512e+09</th>\n",
       "      <td>b8:27:eb:bf:9d:51</td>\n",
       "      <td>0.004967</td>\n",
       "      <td>50.900000</td>\n",
       "      <td>False</td>\n",
       "      <td>0.007664</td>\n",
       "      <td>False</td>\n",
       "      <td>0.020448</td>\n",
       "      <td>22.600000</td>\n",
       "    </tr>\n",
       "  </tbody>\n",
       "</table>\n",
       "</div>"
      ],
      "text/plain": [
       "                         device        co   humidity  light       lpg  motion  \\\n",
       "ts                                                                              \n",
       "1.594512e+09  b8:27:eb:bf:9d:51  0.004956  51.000000  False  0.007651   False   \n",
       "1.594512e+09  00:0f:00:70:91:0a  0.002840  76.000000  False  0.005114   False   \n",
       "1.594512e+09  b8:27:eb:bf:9d:51  0.004976  50.900000  False  0.007673   False   \n",
       "1.594512e+09  1c:bf:ce:15:ec:4d  0.004403  76.800003   True  0.007023   False   \n",
       "1.594512e+09  b8:27:eb:bf:9d:51  0.004967  50.900000  False  0.007664   False   \n",
       "\n",
       "                 smoke       temp  \n",
       "ts                                 \n",
       "1.594512e+09  0.020411  22.700000  \n",
       "1.594512e+09  0.013275  19.700001  \n",
       "1.594512e+09  0.020475  22.600000  \n",
       "1.594512e+09  0.018628  27.000000  \n",
       "1.594512e+09  0.020448  22.600000  "
      ]
     },
     "execution_count": 2,
     "metadata": {},
     "output_type": "execute_result"
    }
   ],
   "source": [
    "path = 'iot_telemetry_data.csv'\n",
    "dataIot = pd.read_csv(path, index_col='ts')\n",
    "dataIot.head()"
   ]
  },
  {
   "cell_type": "code",
   "execution_count": 3,
   "id": "be072653",
   "metadata": {
    "execution": {
     "iopub.execute_input": "2021-07-30T17:17:40.525473Z",
     "iopub.status.busy": "2021-07-30T17:17:40.524792Z",
     "iopub.status.idle": "2021-07-30T17:17:40.527809Z",
     "shell.execute_reply": "2021-07-30T17:17:40.527320Z",
     "shell.execute_reply.started": "2021-07-30T16:46:09.932928Z"
    },
    "papermill": {
     "duration": 0.0346,
     "end_time": "2021-07-30T17:17:40.527946",
     "exception": false,
     "start_time": "2021-07-30T17:17:40.493346",
     "status": "completed"
    },
    "tags": []
   },
   "outputs": [
    {
     "data": {
      "text/plain": [
       "(405184, 8)"
      ]
     },
     "execution_count": 3,
     "metadata": {},
     "output_type": "execute_result"
    }
   ],
   "source": [
    "dataIot.shape"
   ]
  },
  {
   "cell_type": "code",
   "execution_count": 4,
   "id": "fd32a0a9",
   "metadata": {
    "execution": {
     "iopub.execute_input": "2021-07-30T17:17:40.597423Z",
     "iopub.status.busy": "2021-07-30T17:17:40.596775Z",
     "iopub.status.idle": "2021-07-30T17:17:40.683279Z",
     "shell.execute_reply": "2021-07-30T17:17:40.683765Z",
     "shell.execute_reply.started": "2021-07-30T16:46:09.940703Z"
    },
    "papermill": {
     "duration": 0.129537,
     "end_time": "2021-07-30T17:17:40.683956",
     "exception": false,
     "start_time": "2021-07-30T17:17:40.554419",
     "status": "completed"
    },
    "tags": []
   },
   "outputs": [
    {
     "data": {
      "text/plain": [
       "<bound method NDFrame.describe of                          device        co   humidity  light       lpg  motion  \\\n",
       "ts                                                                              \n",
       "1.594512e+09  b8:27:eb:bf:9d:51  0.004956  51.000000  False  0.007651   False   \n",
       "1.594512e+09  00:0f:00:70:91:0a  0.002840  76.000000  False  0.005114   False   \n",
       "1.594512e+09  b8:27:eb:bf:9d:51  0.004976  50.900000  False  0.007673   False   \n",
       "1.594512e+09  1c:bf:ce:15:ec:4d  0.004403  76.800003   True  0.007023   False   \n",
       "1.594512e+09  b8:27:eb:bf:9d:51  0.004967  50.900000  False  0.007664   False   \n",
       "...                         ...       ...        ...    ...       ...     ...   \n",
       "1.595203e+09  00:0f:00:70:91:0a  0.003745  75.300003  False  0.006247   False   \n",
       "1.595203e+09  b8:27:eb:bf:9d:51  0.005882  48.500000  False  0.008660   False   \n",
       "1.595203e+09  1c:bf:ce:15:ec:4d  0.004540  75.699997   True  0.007181   False   \n",
       "1.595203e+09  00:0f:00:70:91:0a  0.003745  75.300003  False  0.006247   False   \n",
       "1.595203e+09  b8:27:eb:bf:9d:51  0.005914  48.400000  False  0.008695   False   \n",
       "\n",
       "                 smoke       temp  \n",
       "ts                                 \n",
       "1.594512e+09  0.020411  22.700000  \n",
       "1.594512e+09  0.013275  19.700001  \n",
       "1.594512e+09  0.020475  22.600000  \n",
       "1.594512e+09  0.018628  27.000000  \n",
       "1.594512e+09  0.020448  22.600000  \n",
       "...                ...        ...  \n",
       "1.595203e+09  0.016437  19.200001  \n",
       "1.595203e+09  0.023301  22.200000  \n",
       "1.595203e+09  0.019076  26.600000  \n",
       "1.595203e+09  0.016437  19.200001  \n",
       "1.595203e+09  0.023400  22.200000  \n",
       "\n",
       "[405184 rows x 8 columns]>"
      ]
     },
     "execution_count": 4,
     "metadata": {},
     "output_type": "execute_result"
    }
   ],
   "source": [
    "dataIot.describe"
   ]
  },
  {
   "cell_type": "code",
   "execution_count": 5,
   "id": "247af94b",
   "metadata": {
    "execution": {
     "iopub.execute_input": "2021-07-30T17:17:40.745146Z",
     "iopub.status.busy": "2021-07-30T17:17:40.744040Z",
     "iopub.status.idle": "2021-07-30T17:17:40.804695Z",
     "shell.execute_reply": "2021-07-30T17:17:40.805254Z",
     "shell.execute_reply.started": "2021-07-30T16:46:10.029355Z"
    },
    "papermill": {
     "duration": 0.093491,
     "end_time": "2021-07-30T17:17:40.805436",
     "exception": false,
     "start_time": "2021-07-30T17:17:40.711945",
     "status": "completed"
    },
    "tags": []
   },
   "outputs": [
    {
     "data": {
      "text/plain": [
       "<bound method DataFrame.info of                          device        co   humidity  light       lpg  motion  \\\n",
       "ts                                                                              \n",
       "1.594512e+09  b8:27:eb:bf:9d:51  0.004956  51.000000  False  0.007651   False   \n",
       "1.594512e+09  00:0f:00:70:91:0a  0.002840  76.000000  False  0.005114   False   \n",
       "1.594512e+09  b8:27:eb:bf:9d:51  0.004976  50.900000  False  0.007673   False   \n",
       "1.594512e+09  1c:bf:ce:15:ec:4d  0.004403  76.800003   True  0.007023   False   \n",
       "1.594512e+09  b8:27:eb:bf:9d:51  0.004967  50.900000  False  0.007664   False   \n",
       "...                         ...       ...        ...    ...       ...     ...   \n",
       "1.595203e+09  00:0f:00:70:91:0a  0.003745  75.300003  False  0.006247   False   \n",
       "1.595203e+09  b8:27:eb:bf:9d:51  0.005882  48.500000  False  0.008660   False   \n",
       "1.595203e+09  1c:bf:ce:15:ec:4d  0.004540  75.699997   True  0.007181   False   \n",
       "1.595203e+09  00:0f:00:70:91:0a  0.003745  75.300003  False  0.006247   False   \n",
       "1.595203e+09  b8:27:eb:bf:9d:51  0.005914  48.400000  False  0.008695   False   \n",
       "\n",
       "                 smoke       temp  \n",
       "ts                                 \n",
       "1.594512e+09  0.020411  22.700000  \n",
       "1.594512e+09  0.013275  19.700001  \n",
       "1.594512e+09  0.020475  22.600000  \n",
       "1.594512e+09  0.018628  27.000000  \n",
       "1.594512e+09  0.020448  22.600000  \n",
       "...                ...        ...  \n",
       "1.595203e+09  0.016437  19.200001  \n",
       "1.595203e+09  0.023301  22.200000  \n",
       "1.595203e+09  0.019076  26.600000  \n",
       "1.595203e+09  0.016437  19.200001  \n",
       "1.595203e+09  0.023400  22.200000  \n",
       "\n",
       "[405184 rows x 8 columns]>"
      ]
     },
     "execution_count": 5,
     "metadata": {},
     "output_type": "execute_result"
    }
   ],
   "source": [
    "dataIot.info"
   ]
  },
  {
   "cell_type": "code",
   "execution_count": 6,
   "id": "65f8f320",
   "metadata": {
    "execution": {
     "iopub.execute_input": "2021-07-30T17:17:40.867828Z",
     "iopub.status.busy": "2021-07-30T17:17:40.866308Z",
     "iopub.status.idle": "2021-07-30T17:17:40.920376Z",
     "shell.execute_reply": "2021-07-30T17:17:40.920847Z",
     "shell.execute_reply.started": "2021-07-30T16:46:10.061769Z"
    },
    "papermill": {
     "duration": 0.087417,
     "end_time": "2021-07-30T17:17:40.921033",
     "exception": false,
     "start_time": "2021-07-30T17:17:40.833616",
     "status": "completed"
    },
    "tags": []
   },
   "outputs": [
    {
     "data": {
      "text/plain": [
       "device      0\n",
       "co          0\n",
       "humidity    0\n",
       "light       0\n",
       "lpg         0\n",
       "motion      0\n",
       "smoke       0\n",
       "temp        0\n",
       "dtype: int64"
      ]
     },
     "execution_count": 6,
     "metadata": {},
     "output_type": "execute_result"
    }
   ],
   "source": [
    "dataIot.isnull().sum()"
   ]
  },
  {
   "cell_type": "markdown",
   "id": "e3743bdd",
   "metadata": {
    "papermill": {
     "duration": 0.029453,
     "end_time": "2021-07-30T17:17:40.982121",
     "exception": false,
     "start_time": "2021-07-30T17:17:40.952668",
     "status": "completed"
    },
    "tags": []
   },
   "source": [
    "# Data Preprocessing\n",
    "\n",
    "Before analyzing data in to more detail, some preprocessing to make data ready for more detail analysis. remove **motion** column because its only contains False value and assume it can't help to predict result we want. Then encode a label for some columns. There are **device** and **light** columns. It's because the data in device column represent environment condtion that we want to predict. There are the following data on device and the label to represent it.\n",
    "\n",
    "        1. 00:0f:00:70:91:0a (stable conditions, cooler and more humid) ==> 0\n",
    "        2. 1c:bf:ce:15:ec:4d (highly variable temperature and humidity) ==> 1\n",
    "        3. b8:27:eb:bf:9d:51 (stable conditions, warmer and dryer) ==> 2\n",
    "\n",
    "And for the light column It represent the absence of light by label 0 (False) and 1 (True). It is because data on the light column has boolean data type."
   ]
  },
  {
   "cell_type": "code",
   "execution_count": 7,
   "id": "0b3af480",
   "metadata": {
    "execution": {
     "iopub.execute_input": "2021-07-30T17:17:41.044478Z",
     "iopub.status.busy": "2021-07-30T17:17:41.043189Z",
     "iopub.status.idle": "2021-07-30T17:17:41.080529Z",
     "shell.execute_reply": "2021-07-30T17:17:41.081006Z",
     "shell.execute_reply.started": "2021-07-30T16:46:10.113597Z"
    },
    "papermill": {
     "duration": 0.070404,
     "end_time": "2021-07-30T17:17:41.081181",
     "exception": false,
     "start_time": "2021-07-30T17:17:41.010777",
     "status": "completed"
    },
    "tags": []
   },
   "outputs": [
    {
     "data": {
      "text/html": [
       "<div>\n",
       "<style scoped>\n",
       "    .dataframe tbody tr th:only-of-type {\n",
       "        vertical-align: middle;\n",
       "    }\n",
       "\n",
       "    .dataframe tbody tr th {\n",
       "        vertical-align: top;\n",
       "    }\n",
       "\n",
       "    .dataframe thead th {\n",
       "        text-align: right;\n",
       "    }\n",
       "</style>\n",
       "<table border=\"1\" class=\"dataframe\">\n",
       "  <thead>\n",
       "    <tr style=\"text-align: right;\">\n",
       "      <th></th>\n",
       "      <th>device</th>\n",
       "      <th>co</th>\n",
       "      <th>humidity</th>\n",
       "      <th>light</th>\n",
       "      <th>lpg</th>\n",
       "      <th>smoke</th>\n",
       "      <th>temp</th>\n",
       "    </tr>\n",
       "    <tr>\n",
       "      <th>ts</th>\n",
       "      <th></th>\n",
       "      <th></th>\n",
       "      <th></th>\n",
       "      <th></th>\n",
       "      <th></th>\n",
       "      <th></th>\n",
       "      <th></th>\n",
       "    </tr>\n",
       "  </thead>\n",
       "  <tbody>\n",
       "    <tr>\n",
       "      <th>1.594512e+09</th>\n",
       "      <td>b8:27:eb:bf:9d:51</td>\n",
       "      <td>0.004956</td>\n",
       "      <td>51.000000</td>\n",
       "      <td>False</td>\n",
       "      <td>0.007651</td>\n",
       "      <td>0.020411</td>\n",
       "      <td>22.700000</td>\n",
       "    </tr>\n",
       "    <tr>\n",
       "      <th>1.594512e+09</th>\n",
       "      <td>00:0f:00:70:91:0a</td>\n",
       "      <td>0.002840</td>\n",
       "      <td>76.000000</td>\n",
       "      <td>False</td>\n",
       "      <td>0.005114</td>\n",
       "      <td>0.013275</td>\n",
       "      <td>19.700001</td>\n",
       "    </tr>\n",
       "    <tr>\n",
       "      <th>1.594512e+09</th>\n",
       "      <td>b8:27:eb:bf:9d:51</td>\n",
       "      <td>0.004976</td>\n",
       "      <td>50.900000</td>\n",
       "      <td>False</td>\n",
       "      <td>0.007673</td>\n",
       "      <td>0.020475</td>\n",
       "      <td>22.600000</td>\n",
       "    </tr>\n",
       "    <tr>\n",
       "      <th>1.594512e+09</th>\n",
       "      <td>1c:bf:ce:15:ec:4d</td>\n",
       "      <td>0.004403</td>\n",
       "      <td>76.800003</td>\n",
       "      <td>True</td>\n",
       "      <td>0.007023</td>\n",
       "      <td>0.018628</td>\n",
       "      <td>27.000000</td>\n",
       "    </tr>\n",
       "    <tr>\n",
       "      <th>1.594512e+09</th>\n",
       "      <td>b8:27:eb:bf:9d:51</td>\n",
       "      <td>0.004967</td>\n",
       "      <td>50.900000</td>\n",
       "      <td>False</td>\n",
       "      <td>0.007664</td>\n",
       "      <td>0.020448</td>\n",
       "      <td>22.600000</td>\n",
       "    </tr>\n",
       "  </tbody>\n",
       "</table>\n",
       "</div>"
      ],
      "text/plain": [
       "                         device        co   humidity  light       lpg  \\\n",
       "ts                                                                      \n",
       "1.594512e+09  b8:27:eb:bf:9d:51  0.004956  51.000000  False  0.007651   \n",
       "1.594512e+09  00:0f:00:70:91:0a  0.002840  76.000000  False  0.005114   \n",
       "1.594512e+09  b8:27:eb:bf:9d:51  0.004976  50.900000  False  0.007673   \n",
       "1.594512e+09  1c:bf:ce:15:ec:4d  0.004403  76.800003   True  0.007023   \n",
       "1.594512e+09  b8:27:eb:bf:9d:51  0.004967  50.900000  False  0.007664   \n",
       "\n",
       "                 smoke       temp  \n",
       "ts                                 \n",
       "1.594512e+09  0.020411  22.700000  \n",
       "1.594512e+09  0.013275  19.700001  \n",
       "1.594512e+09  0.020475  22.600000  \n",
       "1.594512e+09  0.018628  27.000000  \n",
       "1.594512e+09  0.020448  22.600000  "
      ]
     },
     "execution_count": 7,
     "metadata": {},
     "output_type": "execute_result"
    }
   ],
   "source": [
    "data = dataIot.copy()\n",
    "data = data.drop(['motion'], axis = 1)\n",
    "data.head()"
   ]
  },
  {
   "cell_type": "code",
   "execution_count": 8,
   "id": "e2d2988e",
   "metadata": {
    "execution": {
     "iopub.execute_input": "2021-07-30T17:17:41.145345Z",
     "iopub.status.busy": "2021-07-30T17:17:41.144339Z",
     "iopub.status.idle": "2021-07-30T17:17:41.443048Z",
     "shell.execute_reply": "2021-07-30T17:17:41.443517Z",
     "shell.execute_reply.started": "2021-07-30T16:46:10.145237Z"
    },
    "papermill": {
     "duration": 0.332844,
     "end_time": "2021-07-30T17:17:41.443712",
     "exception": false,
     "start_time": "2021-07-30T17:17:41.110868",
     "status": "completed"
    },
    "tags": []
   },
   "outputs": [
    {
     "data": {
      "text/html": [
       "<div>\n",
       "<style scoped>\n",
       "    .dataframe tbody tr th:only-of-type {\n",
       "        vertical-align: middle;\n",
       "    }\n",
       "\n",
       "    .dataframe tbody tr th {\n",
       "        vertical-align: top;\n",
       "    }\n",
       "\n",
       "    .dataframe thead th {\n",
       "        text-align: right;\n",
       "    }\n",
       "</style>\n",
       "<table border=\"1\" class=\"dataframe\">\n",
       "  <thead>\n",
       "    <tr style=\"text-align: right;\">\n",
       "      <th></th>\n",
       "      <th>device</th>\n",
       "      <th>co</th>\n",
       "      <th>humidity</th>\n",
       "      <th>light</th>\n",
       "      <th>lpg</th>\n",
       "      <th>smoke</th>\n",
       "      <th>temp</th>\n",
       "      <th>condition</th>\n",
       "    </tr>\n",
       "    <tr>\n",
       "      <th>ts</th>\n",
       "      <th></th>\n",
       "      <th></th>\n",
       "      <th></th>\n",
       "      <th></th>\n",
       "      <th></th>\n",
       "      <th></th>\n",
       "      <th></th>\n",
       "      <th></th>\n",
       "    </tr>\n",
       "  </thead>\n",
       "  <tbody>\n",
       "    <tr>\n",
       "      <th>1.594512e+09</th>\n",
       "      <td>b8:27:eb:bf:9d:51</td>\n",
       "      <td>0.004956</td>\n",
       "      <td>51.000000</td>\n",
       "      <td>False</td>\n",
       "      <td>0.007651</td>\n",
       "      <td>0.020411</td>\n",
       "      <td>22.700000</td>\n",
       "      <td>2</td>\n",
       "    </tr>\n",
       "    <tr>\n",
       "      <th>1.594512e+09</th>\n",
       "      <td>00:0f:00:70:91:0a</td>\n",
       "      <td>0.002840</td>\n",
       "      <td>76.000000</td>\n",
       "      <td>False</td>\n",
       "      <td>0.005114</td>\n",
       "      <td>0.013275</td>\n",
       "      <td>19.700001</td>\n",
       "      <td>0</td>\n",
       "    </tr>\n",
       "    <tr>\n",
       "      <th>1.594512e+09</th>\n",
       "      <td>b8:27:eb:bf:9d:51</td>\n",
       "      <td>0.004976</td>\n",
       "      <td>50.900000</td>\n",
       "      <td>False</td>\n",
       "      <td>0.007673</td>\n",
       "      <td>0.020475</td>\n",
       "      <td>22.600000</td>\n",
       "      <td>2</td>\n",
       "    </tr>\n",
       "    <tr>\n",
       "      <th>1.594512e+09</th>\n",
       "      <td>1c:bf:ce:15:ec:4d</td>\n",
       "      <td>0.004403</td>\n",
       "      <td>76.800003</td>\n",
       "      <td>True</td>\n",
       "      <td>0.007023</td>\n",
       "      <td>0.018628</td>\n",
       "      <td>27.000000</td>\n",
       "      <td>1</td>\n",
       "    </tr>\n",
       "    <tr>\n",
       "      <th>1.594512e+09</th>\n",
       "      <td>b8:27:eb:bf:9d:51</td>\n",
       "      <td>0.004967</td>\n",
       "      <td>50.900000</td>\n",
       "      <td>False</td>\n",
       "      <td>0.007664</td>\n",
       "      <td>0.020448</td>\n",
       "      <td>22.600000</td>\n",
       "      <td>2</td>\n",
       "    </tr>\n",
       "  </tbody>\n",
       "</table>\n",
       "</div>"
      ],
      "text/plain": [
       "                         device        co   humidity  light       lpg  \\\n",
       "ts                                                                      \n",
       "1.594512e+09  b8:27:eb:bf:9d:51  0.004956  51.000000  False  0.007651   \n",
       "1.594512e+09  00:0f:00:70:91:0a  0.002840  76.000000  False  0.005114   \n",
       "1.594512e+09  b8:27:eb:bf:9d:51  0.004976  50.900000  False  0.007673   \n",
       "1.594512e+09  1c:bf:ce:15:ec:4d  0.004403  76.800003   True  0.007023   \n",
       "1.594512e+09  b8:27:eb:bf:9d:51  0.004967  50.900000  False  0.007664   \n",
       "\n",
       "                 smoke       temp  condition  \n",
       "ts                                            \n",
       "1.594512e+09  0.020411  22.700000          2  \n",
       "1.594512e+09  0.013275  19.700001          0  \n",
       "1.594512e+09  0.020475  22.600000          2  \n",
       "1.594512e+09  0.018628  27.000000          1  \n",
       "1.594512e+09  0.020448  22.600000          2  "
      ]
     },
     "execution_count": 8,
     "metadata": {},
     "output_type": "execute_result"
    }
   ],
   "source": [
    "from sklearn.preprocessing import LabelEncoder\n",
    "\n",
    "encLab = LabelEncoder()\n",
    "deviceEnc = pd.DataFrame(encLab.fit_transform(data['device']), columns=['condition'])\n",
    "deviceEnc.index = data.index\n",
    "\n",
    "dataEnc = pd.concat([data, deviceEnc], axis=1)\n",
    "dataEnc.head()"
   ]
  },
  {
   "cell_type": "code",
   "execution_count": 9,
   "id": "d25e6db7",
   "metadata": {
    "execution": {
     "iopub.execute_input": "2021-07-30T17:17:41.505375Z",
     "iopub.status.busy": "2021-07-30T17:17:41.504434Z",
     "iopub.status.idle": "2021-07-30T17:17:41.569904Z",
     "shell.execute_reply": "2021-07-30T17:17:41.570367Z",
     "shell.execute_reply.started": "2021-07-30T16:46:10.345802Z"
    },
    "papermill": {
     "duration": 0.097824,
     "end_time": "2021-07-30T17:17:41.570560",
     "exception": false,
     "start_time": "2021-07-30T17:17:41.472736",
     "status": "completed"
    },
    "tags": []
   },
   "outputs": [
    {
     "data": {
      "text/html": [
       "<div>\n",
       "<style scoped>\n",
       "    .dataframe tbody tr th:only-of-type {\n",
       "        vertical-align: middle;\n",
       "    }\n",
       "\n",
       "    .dataframe tbody tr th {\n",
       "        vertical-align: top;\n",
       "    }\n",
       "\n",
       "    .dataframe thead th {\n",
       "        text-align: right;\n",
       "    }\n",
       "</style>\n",
       "<table border=\"1\" class=\"dataframe\">\n",
       "  <thead>\n",
       "    <tr style=\"text-align: right;\">\n",
       "      <th></th>\n",
       "      <th>device</th>\n",
       "      <th>co</th>\n",
       "      <th>humidity</th>\n",
       "      <th>light</th>\n",
       "      <th>lpg</th>\n",
       "      <th>smoke</th>\n",
       "      <th>temp</th>\n",
       "      <th>condition</th>\n",
       "      <th>lights</th>\n",
       "    </tr>\n",
       "    <tr>\n",
       "      <th>ts</th>\n",
       "      <th></th>\n",
       "      <th></th>\n",
       "      <th></th>\n",
       "      <th></th>\n",
       "      <th></th>\n",
       "      <th></th>\n",
       "      <th></th>\n",
       "      <th></th>\n",
       "      <th></th>\n",
       "    </tr>\n",
       "  </thead>\n",
       "  <tbody>\n",
       "    <tr>\n",
       "      <th>1.594512e+09</th>\n",
       "      <td>b8:27:eb:bf:9d:51</td>\n",
       "      <td>0.004956</td>\n",
       "      <td>51.000000</td>\n",
       "      <td>False</td>\n",
       "      <td>0.007651</td>\n",
       "      <td>0.020411</td>\n",
       "      <td>22.700000</td>\n",
       "      <td>2</td>\n",
       "      <td>0</td>\n",
       "    </tr>\n",
       "    <tr>\n",
       "      <th>1.594512e+09</th>\n",
       "      <td>00:0f:00:70:91:0a</td>\n",
       "      <td>0.002840</td>\n",
       "      <td>76.000000</td>\n",
       "      <td>False</td>\n",
       "      <td>0.005114</td>\n",
       "      <td>0.013275</td>\n",
       "      <td>19.700001</td>\n",
       "      <td>0</td>\n",
       "      <td>0</td>\n",
       "    </tr>\n",
       "    <tr>\n",
       "      <th>1.594512e+09</th>\n",
       "      <td>b8:27:eb:bf:9d:51</td>\n",
       "      <td>0.004976</td>\n",
       "      <td>50.900000</td>\n",
       "      <td>False</td>\n",
       "      <td>0.007673</td>\n",
       "      <td>0.020475</td>\n",
       "      <td>22.600000</td>\n",
       "      <td>2</td>\n",
       "      <td>0</td>\n",
       "    </tr>\n",
       "    <tr>\n",
       "      <th>1.594512e+09</th>\n",
       "      <td>1c:bf:ce:15:ec:4d</td>\n",
       "      <td>0.004403</td>\n",
       "      <td>76.800003</td>\n",
       "      <td>True</td>\n",
       "      <td>0.007023</td>\n",
       "      <td>0.018628</td>\n",
       "      <td>27.000000</td>\n",
       "      <td>1</td>\n",
       "      <td>1</td>\n",
       "    </tr>\n",
       "    <tr>\n",
       "      <th>1.594512e+09</th>\n",
       "      <td>b8:27:eb:bf:9d:51</td>\n",
       "      <td>0.004967</td>\n",
       "      <td>50.900000</td>\n",
       "      <td>False</td>\n",
       "      <td>0.007664</td>\n",
       "      <td>0.020448</td>\n",
       "      <td>22.600000</td>\n",
       "      <td>2</td>\n",
       "      <td>0</td>\n",
       "    </tr>\n",
       "  </tbody>\n",
       "</table>\n",
       "</div>"
      ],
      "text/plain": [
       "                         device        co   humidity  light       lpg  \\\n",
       "ts                                                                      \n",
       "1.594512e+09  b8:27:eb:bf:9d:51  0.004956  51.000000  False  0.007651   \n",
       "1.594512e+09  00:0f:00:70:91:0a  0.002840  76.000000  False  0.005114   \n",
       "1.594512e+09  b8:27:eb:bf:9d:51  0.004976  50.900000  False  0.007673   \n",
       "1.594512e+09  1c:bf:ce:15:ec:4d  0.004403  76.800003   True  0.007023   \n",
       "1.594512e+09  b8:27:eb:bf:9d:51  0.004967  50.900000  False  0.007664   \n",
       "\n",
       "                 smoke       temp  condition  lights  \n",
       "ts                                                    \n",
       "1.594512e+09  0.020411  22.700000          2       0  \n",
       "1.594512e+09  0.013275  19.700001          0       0  \n",
       "1.594512e+09  0.020475  22.600000          2       0  \n",
       "1.594512e+09  0.018628  27.000000          1       1  \n",
       "1.594512e+09  0.020448  22.600000          2       0  "
      ]
     },
     "execution_count": 9,
     "metadata": {},
     "output_type": "execute_result"
    }
   ],
   "source": [
    "encLab2 = LabelEncoder()\n",
    "lightEnc = pd.DataFrame(encLab2.fit_transform(dataEnc['light']), columns=['lights'])\n",
    "lightEnc.index = dataEnc.index\n",
    "\n",
    "dataEnc2 = pd.concat([dataEnc, lightEnc], axis=1)\n",
    "dataEnc2.head()"
   ]
  },
  {
   "cell_type": "code",
   "execution_count": 10,
   "id": "9f0c54a1",
   "metadata": {
    "execution": {
     "iopub.execute_input": "2021-07-30T17:17:41.632732Z",
     "iopub.status.busy": "2021-07-30T17:17:41.631754Z",
     "iopub.status.idle": "2021-07-30T17:17:41.675470Z",
     "shell.execute_reply": "2021-07-30T17:17:41.675947Z",
     "shell.execute_reply.started": "2021-07-30T16:46:10.391890Z"
    },
    "papermill": {
     "duration": 0.076371,
     "end_time": "2021-07-30T17:17:41.676119",
     "exception": false,
     "start_time": "2021-07-30T17:17:41.599748",
     "status": "completed"
    },
    "tags": []
   },
   "outputs": [
    {
     "data": {
      "text/html": [
       "<div>\n",
       "<style scoped>\n",
       "    .dataframe tbody tr th:only-of-type {\n",
       "        vertical-align: middle;\n",
       "    }\n",
       "\n",
       "    .dataframe tbody tr th {\n",
       "        vertical-align: top;\n",
       "    }\n",
       "\n",
       "    .dataframe thead th {\n",
       "        text-align: right;\n",
       "    }\n",
       "</style>\n",
       "<table border=\"1\" class=\"dataframe\">\n",
       "  <thead>\n",
       "    <tr style=\"text-align: right;\">\n",
       "      <th></th>\n",
       "      <th>co</th>\n",
       "      <th>humidity</th>\n",
       "      <th>lpg</th>\n",
       "      <th>smoke</th>\n",
       "      <th>temp</th>\n",
       "      <th>condition</th>\n",
       "      <th>lights</th>\n",
       "    </tr>\n",
       "    <tr>\n",
       "      <th>ts</th>\n",
       "      <th></th>\n",
       "      <th></th>\n",
       "      <th></th>\n",
       "      <th></th>\n",
       "      <th></th>\n",
       "      <th></th>\n",
       "      <th></th>\n",
       "    </tr>\n",
       "  </thead>\n",
       "  <tbody>\n",
       "    <tr>\n",
       "      <th>1.594512e+09</th>\n",
       "      <td>0.004956</td>\n",
       "      <td>51.000000</td>\n",
       "      <td>0.007651</td>\n",
       "      <td>0.020411</td>\n",
       "      <td>22.700000</td>\n",
       "      <td>2</td>\n",
       "      <td>0</td>\n",
       "    </tr>\n",
       "    <tr>\n",
       "      <th>1.594512e+09</th>\n",
       "      <td>0.002840</td>\n",
       "      <td>76.000000</td>\n",
       "      <td>0.005114</td>\n",
       "      <td>0.013275</td>\n",
       "      <td>19.700001</td>\n",
       "      <td>0</td>\n",
       "      <td>0</td>\n",
       "    </tr>\n",
       "    <tr>\n",
       "      <th>1.594512e+09</th>\n",
       "      <td>0.004976</td>\n",
       "      <td>50.900000</td>\n",
       "      <td>0.007673</td>\n",
       "      <td>0.020475</td>\n",
       "      <td>22.600000</td>\n",
       "      <td>2</td>\n",
       "      <td>0</td>\n",
       "    </tr>\n",
       "    <tr>\n",
       "      <th>1.594512e+09</th>\n",
       "      <td>0.004403</td>\n",
       "      <td>76.800003</td>\n",
       "      <td>0.007023</td>\n",
       "      <td>0.018628</td>\n",
       "      <td>27.000000</td>\n",
       "      <td>1</td>\n",
       "      <td>1</td>\n",
       "    </tr>\n",
       "    <tr>\n",
       "      <th>1.594512e+09</th>\n",
       "      <td>0.004967</td>\n",
       "      <td>50.900000</td>\n",
       "      <td>0.007664</td>\n",
       "      <td>0.020448</td>\n",
       "      <td>22.600000</td>\n",
       "      <td>2</td>\n",
       "      <td>0</td>\n",
       "    </tr>\n",
       "  </tbody>\n",
       "</table>\n",
       "</div>"
      ],
      "text/plain": [
       "                    co   humidity       lpg     smoke       temp  condition  \\\n",
       "ts                                                                            \n",
       "1.594512e+09  0.004956  51.000000  0.007651  0.020411  22.700000          2   \n",
       "1.594512e+09  0.002840  76.000000  0.005114  0.013275  19.700001          0   \n",
       "1.594512e+09  0.004976  50.900000  0.007673  0.020475  22.600000          2   \n",
       "1.594512e+09  0.004403  76.800003  0.007023  0.018628  27.000000          1   \n",
       "1.594512e+09  0.004967  50.900000  0.007664  0.020448  22.600000          2   \n",
       "\n",
       "              lights  \n",
       "ts                    \n",
       "1.594512e+09       0  \n",
       "1.594512e+09       0  \n",
       "1.594512e+09       0  \n",
       "1.594512e+09       1  \n",
       "1.594512e+09       0  "
      ]
     },
     "execution_count": 10,
     "metadata": {},
     "output_type": "execute_result"
    }
   ],
   "source": [
    "dataProcessed = dataEnc2.drop(['device', 'light'], axis=1)\n",
    "dataProcessed.head()"
   ]
  },
  {
   "cell_type": "markdown",
   "id": "1cf540ca",
   "metadata": {
    "papermill": {
     "duration": 0.029338,
     "end_time": "2021-07-30T17:17:41.735574",
     "exception": false,
     "start_time": "2021-07-30T17:17:41.706236",
     "status": "completed"
    },
    "tags": []
   },
   "source": [
    "# Exploratory Data Analysis"
   ]
  },
  {
   "cell_type": "markdown",
   "id": "aec8d00a",
   "metadata": {
    "papermill": {
     "duration": 0.030006,
     "end_time": "2021-07-30T17:17:41.795175",
     "exception": false,
     "start_time": "2021-07-30T17:17:41.765169",
     "status": "completed"
    },
    "tags": []
   },
   "source": [
    "## Univariate Analysis"
   ]
  },
  {
   "cell_type": "code",
   "execution_count": 11,
   "id": "23620a1c",
   "metadata": {
    "execution": {
     "iopub.execute_input": "2021-07-30T17:17:41.859692Z",
     "iopub.status.busy": "2021-07-30T17:17:41.858744Z",
     "iopub.status.idle": "2021-07-30T17:17:52.493435Z",
     "shell.execute_reply": "2021-07-30T17:17:52.492881Z",
     "shell.execute_reply.started": "2021-07-30T16:46:10.420811Z"
    },
    "papermill": {
     "duration": 10.66753,
     "end_time": "2021-07-30T17:17:52.493616",
     "exception": false,
     "start_time": "2021-07-30T17:17:41.826086",
     "status": "completed"
    },
    "tags": []
   },
   "outputs": [
    {
     "data": {
      "image/png": "[encoded data removed]",
      "text/plain": [
       "<Figure size 800x600 with 1 Axes>"
      ]
     },
     "metadata": {},
     "output_type": "display_data"
    },
    {
     "data": {
      "image/png": "[encoded data removed]",
      "text/plain": [
       "<Figure size 800x600 with 1 Axes>"
      ]
     },
     "metadata": {},
     "output_type": "display_data"
    },
    {
     "data": {
      "image/png": "[encoded data removed]",
      "text/plain": [
       "<Figure size 800x600 with 1 Axes>"
      ]
     },
     "metadata": {},
     "output_type": "display_data"
    },
    {
     "data": {
      "image/png": "[encoded data removed]",
      "text/plain": [
       "<Figure size 800x600 with 1 Axes>"
      ]
     },
     "metadata": {},
     "output_type": "display_data"
    },
    {
     "data": {
      "image/png": "[encoded data removed]",
      "text/plain": [
       "<Figure size 800x600 with 1 Axes>"
      ]
     },
     "metadata": {},
     "output_type": "display_data"
    }
   ],
   "source": [
    "for i in dataProcessed.columns:\n",
    "    if dataProcessed[i].nunique() > 5:\n",
    "        plt.figure(figsize=(8, 6))\n",
    "        sns.kdeplot(x=i, data=dataProcessed)\n",
    "        plt.show()"
   ]
  },
  {
   "cell_type": "markdown",
   "id": "297c80ba",
   "metadata": {
    "papermill": {
     "duration": 0.036187,
     "end_time": "2021-07-30T17:17:53.163300",
     "exception": false,
     "start_time": "2021-07-30T17:17:53.127113",
     "status": "completed"
    },
    "tags": []
   },
   "source": [
    "## Multivariate Analysis"
   ]
  },
  {
   "cell_type": "code",
   "execution_count": 12,
   "id": "60cd8466",
   "metadata": {
    "execution": {
     "iopub.execute_input": "2021-07-30T17:17:53.243553Z",
     "iopub.status.busy": "2021-07-30T17:17:53.242870Z",
     "iopub.status.idle": "2021-07-30T17:17:54.380793Z",
     "shell.execute_reply": "2021-07-30T17:17:54.380062Z",
     "shell.execute_reply.started": "2021-07-30T16:46:26.216269Z"
    },
    "papermill": {
     "duration": 1.180133,
     "end_time": "2021-07-30T17:17:54.380943",
     "exception": false,
     "start_time": "2021-07-30T17:17:53.200810",
     "status": "completed"
    },
    "tags": []
   },
   "outputs": [
    {
     "data": {
      "image/png": "[encoded data removed]",
      "text/plain": [
       "<Figure size 800x600 with 1 Axes>"
      ]
     },
     "metadata": {},
     "output_type": "display_data"
    },
    {
     "data": {
      "image/png": "[encoded data removed]",
      "text/plain": [
       "<Figure size 800x600 with 1 Axes>"
      ]
     },
     "metadata": {},
     "output_type": "display_data"
    },
    {
     "data": {
      "image/png": "[encoded data removed]",
      "text/plain": [
       "<Figure size 800x600 with 1 Axes>"
      ]
     },
     "metadata": {},
     "output_type": "display_data"
    },
    {
     "data": {
      "image/png": "[encoded data removed]",
      "text/plain": [
       "<Figure size 800x600 with 1 Axes>"
      ]
     },
     "metadata": {},
     "output_type": "display_data"
    },
    {
     "data": {
      "image/png": "[encoded data removed]",
      "text/plain": [
       "<Figure size 800x600 with 1 Axes>"
      ]
     },
     "metadata": {},
     "output_type": "display_data"
    }
   ],
   "source": [
    "for k in dataProcessed.columns:\n",
    "    if dataProcessed[k].nunique() > 5:\n",
    "        plt.figure(figsize=(8, 6))\n",
    "        sns.boxplot(x=dataProcessed['condition'], y=dataProcessed[k])\n",
    "        plt.show()\n",
    "        "
   ]
  },
  {
   "cell_type": "code",
   "execution_count": 13,
   "id": "2a1e7e63",
   "metadata": {
    "execution": {
     "iopub.execute_input": "2021-07-30T17:17:54.478302Z",
     "iopub.status.busy": "2021-07-30T17:17:54.477629Z",
     "iopub.status.idle": "2021-07-30T17:17:54.893631Z",
     "shell.execute_reply": "2021-07-30T17:17:54.892949Z",
     "shell.execute_reply.started": "2021-07-30T16:46:27.120575Z"
    },
    "papermill": {
     "duration": 0.468034,
     "end_time": "2021-07-30T17:17:54.893770",
     "exception": false,
     "start_time": "2021-07-30T17:17:54.425736",
     "status": "completed"
    },
    "tags": []
   },
   "outputs": [
    {
     "data": {
      "text/plain": [
       "<AxesSubplot:>"
      ]
     },
     "execution_count": 13,
     "metadata": {},
     "output_type": "execute_result"
    },
    {
     "data": {
      "image/png": "[encoded data removed]",
      "text/plain": [
       "<Figure size 1000x800 with 2 Axes>"
      ]
     },
     "metadata": {},
     "output_type": "display_data"
    }
   ],
   "source": [
    "dataCorr = dataProcessed.drop(['lights', 'condition'], axis=1)\n",
    "corr = dataCorr.corr()\n",
    "plt.figure(figsize=(10, 8))\n",
    "sns.heatmap(corr, annot=True, linewidths=.5)"
   ]
  },
  {
   "cell_type": "markdown",
   "id": "77b31d23",
   "metadata": {
    "papermill": {
     "duration": 0.041967,
     "end_time": "2021-07-30T17:17:54.978083",
     "exception": false,
     "start_time": "2021-07-30T17:17:54.936116",
     "status": "completed"
    },
    "tags": []
   },
   "source": [
    "## Data Cleaning\n",
    "\n",
    " Removing some columns that high correlation coefficient. Also,  delete outliers in numerical data in dataset. Then, standardize the value of cleaned using standard scaler form scikit learn. "
   ]
  },
  {
   "cell_type": "code",
   "execution_count": 14,
   "id": "21a2eade",
   "metadata": {
    "execution": {
     "iopub.execute_input": "2021-07-30T17:17:55.067901Z",
     "iopub.status.busy": "2021-07-30T17:17:55.066957Z",
     "iopub.status.idle": "2021-07-30T17:17:55.094564Z",
     "shell.execute_reply": "2021-07-30T17:17:55.093667Z",
     "shell.execute_reply.started": "2021-07-30T16:46:27.445966Z"
    },
    "papermill": {
     "duration": 0.074985,
     "end_time": "2021-07-30T17:17:55.094737",
     "exception": false,
     "start_time": "2021-07-30T17:17:55.019752",
     "status": "completed"
    },
    "tags": []
   },
   "outputs": [
    {
     "data": {
      "text/html": [
       "<div>\n",
       "<style scoped>\n",
       "    .dataframe tbody tr th:only-of-type {\n",
       "        vertical-align: middle;\n",
       "    }\n",
       "\n",
       "    .dataframe tbody tr th {\n",
       "        vertical-align: top;\n",
       "    }\n",
       "\n",
       "    .dataframe thead th {\n",
       "        text-align: right;\n",
       "    }\n",
       "</style>\n",
       "<table border=\"1\" class=\"dataframe\">\n",
       "  <thead>\n",
       "    <tr style=\"text-align: right;\">\n",
       "      <th></th>\n",
       "      <th>humidity</th>\n",
       "      <th>temp</th>\n",
       "      <th>condition</th>\n",
       "      <th>lights</th>\n",
       "    </tr>\n",
       "    <tr>\n",
       "      <th>ts</th>\n",
       "      <th></th>\n",
       "      <th></th>\n",
       "      <th></th>\n",
       "      <th></th>\n",
       "    </tr>\n",
       "  </thead>\n",
       "  <tbody>\n",
       "    <tr>\n",
       "      <th>1.594512e+09</th>\n",
       "      <td>51.000000</td>\n",
       "      <td>22.700000</td>\n",
       "      <td>2</td>\n",
       "      <td>0</td>\n",
       "    </tr>\n",
       "    <tr>\n",
       "      <th>1.594512e+09</th>\n",
       "      <td>76.000000</td>\n",
       "      <td>19.700001</td>\n",
       "      <td>0</td>\n",
       "      <td>0</td>\n",
       "    </tr>\n",
       "    <tr>\n",
       "      <th>1.594512e+09</th>\n",
       "      <td>50.900000</td>\n",
       "      <td>22.600000</td>\n",
       "      <td>2</td>\n",
       "      <td>0</td>\n",
       "    </tr>\n",
       "    <tr>\n",
       "      <th>1.594512e+09</th>\n",
       "      <td>76.800003</td>\n",
       "      <td>27.000000</td>\n",
       "      <td>1</td>\n",
       "      <td>1</td>\n",
       "    </tr>\n",
       "    <tr>\n",
       "      <th>1.594512e+09</th>\n",
       "      <td>50.900000</td>\n",
       "      <td>22.600000</td>\n",
       "      <td>2</td>\n",
       "      <td>0</td>\n",
       "    </tr>\n",
       "  </tbody>\n",
       "</table>\n",
       "</div>"
      ],
      "text/plain": [
       "               humidity       temp  condition  lights\n",
       "ts                                                   \n",
       "1.594512e+09  51.000000  22.700000          2       0\n",
       "1.594512e+09  76.000000  19.700001          0       0\n",
       "1.594512e+09  50.900000  22.600000          2       0\n",
       "1.594512e+09  76.800003  27.000000          1       1\n",
       "1.594512e+09  50.900000  22.600000          2       0"
      ]
     },
     "execution_count": 14,
     "metadata": {},
     "output_type": "execute_result"
    }
   ],
   "source": [
    "dataCleanInput = dataProcessed.copy()\n",
    "removedCol = ['lpg', 'smoke', 'co']\n",
    "\n",
    "dataCleaned = dataCleanInput.drop(removedCol, axis=1)\n",
    "dataCleaned.head()"
   ]
  },
  {
   "cell_type": "code",
   "execution_count": 15,
   "id": "84017e94",
   "metadata": {
    "execution": {
     "iopub.execute_input": "2021-07-30T17:17:55.187140Z",
     "iopub.status.busy": "2021-07-30T17:17:55.185976Z",
     "iopub.status.idle": "2021-07-30T17:17:55.279227Z",
     "shell.execute_reply": "2021-07-30T17:17:55.278657Z",
     "shell.execute_reply.started": "2021-07-30T16:46:27.467197Z"
    },
    "papermill": {
     "duration": 0.141895,
     "end_time": "2021-07-30T17:17:55.279378",
     "exception": false,
     "start_time": "2021-07-30T17:17:55.137483",
     "status": "completed"
    },
    "tags": []
   },
   "outputs": [
    {
     "data": {
      "text/html": [
       "<div>\n",
       "<style scoped>\n",
       "    .dataframe tbody tr th:only-of-type {\n",
       "        vertical-align: middle;\n",
       "    }\n",
       "\n",
       "    .dataframe tbody tr th {\n",
       "        vertical-align: top;\n",
       "    }\n",
       "\n",
       "    .dataframe thead th {\n",
       "        text-align: right;\n",
       "    }\n",
       "</style>\n",
       "<table border=\"1\" class=\"dataframe\">\n",
       "  <thead>\n",
       "    <tr style=\"text-align: right;\">\n",
       "      <th></th>\n",
       "      <th>humidity</th>\n",
       "      <th>temp</th>\n",
       "      <th>condition</th>\n",
       "      <th>lights</th>\n",
       "    </tr>\n",
       "    <tr>\n",
       "      <th>ts</th>\n",
       "      <th></th>\n",
       "      <th></th>\n",
       "      <th></th>\n",
       "      <th></th>\n",
       "    </tr>\n",
       "  </thead>\n",
       "  <tbody>\n",
       "    <tr>\n",
       "      <th>1.594512e+09</th>\n",
       "      <td>51.000000</td>\n",
       "      <td>22.700000</td>\n",
       "      <td>2</td>\n",
       "      <td>0</td>\n",
       "    </tr>\n",
       "    <tr>\n",
       "      <th>1.594512e+09</th>\n",
       "      <td>76.000000</td>\n",
       "      <td>19.700001</td>\n",
       "      <td>0</td>\n",
       "      <td>0</td>\n",
       "    </tr>\n",
       "    <tr>\n",
       "      <th>1.594512e+09</th>\n",
       "      <td>50.900000</td>\n",
       "      <td>22.600000</td>\n",
       "      <td>2</td>\n",
       "      <td>0</td>\n",
       "    </tr>\n",
       "    <tr>\n",
       "      <th>1.594512e+09</th>\n",
       "      <td>76.800003</td>\n",
       "      <td>27.000000</td>\n",
       "      <td>1</td>\n",
       "      <td>1</td>\n",
       "    </tr>\n",
       "    <tr>\n",
       "      <th>1.594512e+09</th>\n",
       "      <td>50.900000</td>\n",
       "      <td>22.600000</td>\n",
       "      <td>2</td>\n",
       "      <td>0</td>\n",
       "    </tr>\n",
       "  </tbody>\n",
       "</table>\n",
       "</div>"
      ],
      "text/plain": [
       "               humidity       temp  condition  lights\n",
       "ts                                                   \n",
       "1.594512e+09  51.000000  22.700000          2       0\n",
       "1.594512e+09  76.000000  19.700001          0       0\n",
       "1.594512e+09  50.900000  22.600000          2       0\n",
       "1.594512e+09  76.800003  27.000000          1       1\n",
       "1.594512e+09  50.900000  22.600000          2       0"
      ]
     },
     "execution_count": 15,
     "metadata": {},
     "output_type": "execute_result"
    }
   ],
   "source": [
    "Q1 = dataCleaned.quantile(.25)\n",
    "Q3 = dataCleaned.quantile(.75)\n",
    "IQR = Q3-Q1\n",
    "dataClean = dataCleaned[~((dataCleaned<(Q1-1.5*IQR))|(dataCleaned>(Q3+1.5*IQR))).any(axis=1)]\n",
    "dataClean.head()"
   ]
  },
  {
   "cell_type": "code",
   "execution_count": 16,
   "id": "0bb25be2",
   "metadata": {
    "execution": {
     "iopub.execute_input": "2021-07-30T17:17:55.374556Z",
     "iopub.status.busy": "2021-07-30T17:17:55.373882Z",
     "iopub.status.idle": "2021-07-30T17:17:55.408225Z",
     "shell.execute_reply": "2021-07-30T17:17:55.407568Z",
     "shell.execute_reply.started": "2021-07-30T16:46:27.552036Z"
    },
    "papermill": {
     "duration": 0.085844,
     "end_time": "2021-07-30T17:17:55.408374",
     "exception": false,
     "start_time": "2021-07-30T17:17:55.322530",
     "status": "completed"
    },
    "tags": []
   },
   "outputs": [
    {
     "data": {
      "text/html": [
       "<div>\n",
       "<style scoped>\n",
       "    .dataframe tbody tr th:only-of-type {\n",
       "        vertical-align: middle;\n",
       "    }\n",
       "\n",
       "    .dataframe tbody tr th {\n",
       "        vertical-align: top;\n",
       "    }\n",
       "\n",
       "    .dataframe thead th {\n",
       "        text-align: right;\n",
       "    }\n",
       "</style>\n",
       "<table border=\"1\" class=\"dataframe\">\n",
       "  <thead>\n",
       "    <tr style=\"text-align: right;\">\n",
       "      <th></th>\n",
       "      <th>humidity</th>\n",
       "      <th>temp</th>\n",
       "      <th>condition</th>\n",
       "      <th>lights</th>\n",
       "      <th>humid</th>\n",
       "    </tr>\n",
       "    <tr>\n",
       "      <th>ts</th>\n",
       "      <th></th>\n",
       "      <th></th>\n",
       "      <th></th>\n",
       "      <th></th>\n",
       "      <th></th>\n",
       "    </tr>\n",
       "  </thead>\n",
       "  <tbody>\n",
       "    <tr>\n",
       "      <th>1.594512e+09</th>\n",
       "      <td>51.000000</td>\n",
       "      <td>22.700000</td>\n",
       "      <td>2</td>\n",
       "      <td>0</td>\n",
       "      <td>-0.839883</td>\n",
       "    </tr>\n",
       "    <tr>\n",
       "      <th>1.594512e+09</th>\n",
       "      <td>76.000000</td>\n",
       "      <td>19.700001</td>\n",
       "      <td>0</td>\n",
       "      <td>0</td>\n",
       "      <td>1.346868</td>\n",
       "    </tr>\n",
       "    <tr>\n",
       "      <th>1.594512e+09</th>\n",
       "      <td>50.900000</td>\n",
       "      <td>22.600000</td>\n",
       "      <td>2</td>\n",
       "      <td>0</td>\n",
       "      <td>-0.848630</td>\n",
       "    </tr>\n",
       "    <tr>\n",
       "      <th>1.594512e+09</th>\n",
       "      <td>76.800003</td>\n",
       "      <td>27.000000</td>\n",
       "      <td>1</td>\n",
       "      <td>1</td>\n",
       "      <td>1.416844</td>\n",
       "    </tr>\n",
       "    <tr>\n",
       "      <th>1.594512e+09</th>\n",
       "      <td>50.900000</td>\n",
       "      <td>22.600000</td>\n",
       "      <td>2</td>\n",
       "      <td>0</td>\n",
       "      <td>-0.848630</td>\n",
       "    </tr>\n",
       "  </tbody>\n",
       "</table>\n",
       "</div>"
      ],
      "text/plain": [
       "               humidity       temp  condition  lights     humid\n",
       "ts                                                             \n",
       "1.594512e+09  51.000000  22.700000          2       0 -0.839883\n",
       "1.594512e+09  76.000000  19.700001          0       0  1.346868\n",
       "1.594512e+09  50.900000  22.600000          2       0 -0.848630\n",
       "1.594512e+09  76.800003  27.000000          1       1  1.416844\n",
       "1.594512e+09  50.900000  22.600000          2       0 -0.848630"
      ]
     },
     "execution_count": 16,
     "metadata": {},
     "output_type": "execute_result"
    }
   ],
   "source": [
    "from sklearn.preprocessing import StandardScaler\n",
    "\n",
    "scaler1 = StandardScaler()\n",
    "humidScaled =pd.DataFrame(scaler1.fit_transform(dataClean[['humidity']]), columns=['humid'])\n",
    "humidScaled.index = dataClean.index\n",
    "dataClean1 = pd.concat([dataClean, humidScaled], axis=1)\n",
    "dataClean1.head()"
   ]
  },
  {
   "cell_type": "code",
   "execution_count": 17,
   "id": "46cad628",
   "metadata": {
    "execution": {
     "iopub.execute_input": "2021-07-30T17:17:55.507631Z",
     "iopub.status.busy": "2021-07-30T17:17:55.506407Z",
     "iopub.status.idle": "2021-07-30T17:17:55.552308Z",
     "shell.execute_reply": "2021-07-30T17:17:55.552799Z",
     "shell.execute_reply.started": "2021-07-30T16:46:27.582130Z"
    },
    "papermill": {
     "duration": 0.101186,
     "end_time": "2021-07-30T17:17:55.552974",
     "exception": false,
     "start_time": "2021-07-30T17:17:55.451788",
     "status": "completed"
    },
    "tags": []
   },
   "outputs": [
    {
     "data": {
      "text/html": [
       "<div>\n",
       "<style scoped>\n",
       "    .dataframe tbody tr th:only-of-type {\n",
       "        vertical-align: middle;\n",
       "    }\n",
       "\n",
       "    .dataframe tbody tr th {\n",
       "        vertical-align: top;\n",
       "    }\n",
       "\n",
       "    .dataframe thead th {\n",
       "        text-align: right;\n",
       "    }\n",
       "</style>\n",
       "<table border=\"1\" class=\"dataframe\">\n",
       "  <thead>\n",
       "    <tr style=\"text-align: right;\">\n",
       "      <th></th>\n",
       "      <th>humidity</th>\n",
       "      <th>temp</th>\n",
       "      <th>condition</th>\n",
       "      <th>lights</th>\n",
       "      <th>humid</th>\n",
       "      <th>temperature</th>\n",
       "    </tr>\n",
       "    <tr>\n",
       "      <th>ts</th>\n",
       "      <th></th>\n",
       "      <th></th>\n",
       "      <th></th>\n",
       "      <th></th>\n",
       "      <th></th>\n",
       "      <th></th>\n",
       "    </tr>\n",
       "  </thead>\n",
       "  <tbody>\n",
       "    <tr>\n",
       "      <th>1.594512e+09</th>\n",
       "      <td>51.000000</td>\n",
       "      <td>22.700000</td>\n",
       "      <td>2</td>\n",
       "      <td>0</td>\n",
       "      <td>-0.839883</td>\n",
       "      <td>0.157192</td>\n",
       "    </tr>\n",
       "    <tr>\n",
       "      <th>1.594512e+09</th>\n",
       "      <td>76.000000</td>\n",
       "      <td>19.700001</td>\n",
       "      <td>0</td>\n",
       "      <td>0</td>\n",
       "      <td>1.346868</td>\n",
       "      <td>-1.057423</td>\n",
       "    </tr>\n",
       "    <tr>\n",
       "      <th>1.594512e+09</th>\n",
       "      <td>50.900000</td>\n",
       "      <td>22.600000</td>\n",
       "      <td>2</td>\n",
       "      <td>0</td>\n",
       "      <td>-0.848630</td>\n",
       "      <td>0.116705</td>\n",
       "    </tr>\n",
       "    <tr>\n",
       "      <th>1.594512e+09</th>\n",
       "      <td>76.800003</td>\n",
       "      <td>27.000000</td>\n",
       "      <td>1</td>\n",
       "      <td>1</td>\n",
       "      <td>1.416844</td>\n",
       "      <td>1.898141</td>\n",
       "    </tr>\n",
       "    <tr>\n",
       "      <th>1.594512e+09</th>\n",
       "      <td>50.900000</td>\n",
       "      <td>22.600000</td>\n",
       "      <td>2</td>\n",
       "      <td>0</td>\n",
       "      <td>-0.848630</td>\n",
       "      <td>0.116705</td>\n",
       "    </tr>\n",
       "  </tbody>\n",
       "</table>\n",
       "</div>"
      ],
      "text/plain": [
       "               humidity       temp  condition  lights     humid  temperature\n",
       "ts                                                                          \n",
       "1.594512e+09  51.000000  22.700000          2       0 -0.839883     0.157192\n",
       "1.594512e+09  76.000000  19.700001          0       0  1.346868    -1.057423\n",
       "1.594512e+09  50.900000  22.600000          2       0 -0.848630     0.116705\n",
       "1.594512e+09  76.800003  27.000000          1       1  1.416844     1.898141\n",
       "1.594512e+09  50.900000  22.600000          2       0 -0.848630     0.116705"
      ]
     },
     "execution_count": 17,
     "metadata": {},
     "output_type": "execute_result"
    }
   ],
   "source": [
    "scaler2 = StandardScaler()\n",
    "tempScaled =pd.DataFrame(scaler1.fit_transform(dataClean[['temp']]), columns=['temperature'])\n",
    "tempScaled.index = dataClean1.index\n",
    "dataClean2 = pd.concat([dataClean1, tempScaled], axis=1)\n",
    "dataClean2.head()"
   ]
  },
  {
   "cell_type": "code",
   "execution_count": 18,
   "id": "11d71e24",
   "metadata": {
    "execution": {
     "iopub.execute_input": "2021-07-30T17:17:55.651674Z",
     "iopub.status.busy": "2021-07-30T17:17:55.650969Z",
     "iopub.status.idle": "2021-07-30T17:17:55.678075Z",
     "shell.execute_reply": "2021-07-30T17:17:55.678629Z",
     "shell.execute_reply.started": "2021-07-30T16:46:27.615623Z"
    },
    "papermill": {
     "duration": 0.077956,
     "end_time": "2021-07-30T17:17:55.678799",
     "exception": false,
     "start_time": "2021-07-30T17:17:55.600843",
     "status": "completed"
    },
    "tags": []
   },
   "outputs": [
    {
     "data": {
      "text/html": [
       "<div>\n",
       "<style scoped>\n",
       "    .dataframe tbody tr th:only-of-type {\n",
       "        vertical-align: middle;\n",
       "    }\n",
       "\n",
       "    .dataframe tbody tr th {\n",
       "        vertical-align: top;\n",
       "    }\n",
       "\n",
       "    .dataframe thead th {\n",
       "        text-align: right;\n",
       "    }\n",
       "</style>\n",
       "<table border=\"1\" class=\"dataframe\">\n",
       "  <thead>\n",
       "    <tr style=\"text-align: right;\">\n",
       "      <th></th>\n",
       "      <th>temp</th>\n",
       "      <th>humid</th>\n",
       "      <th>lights</th>\n",
       "    </tr>\n",
       "    <tr>\n",
       "      <th>ts</th>\n",
       "      <th></th>\n",
       "      <th></th>\n",
       "      <th></th>\n",
       "    </tr>\n",
       "  </thead>\n",
       "  <tbody>\n",
       "    <tr>\n",
       "      <th>1.594512e+09</th>\n",
       "      <td>22.700000</td>\n",
       "      <td>-0.839883</td>\n",
       "      <td>0</td>\n",
       "    </tr>\n",
       "    <tr>\n",
       "      <th>1.594512e+09</th>\n",
       "      <td>19.700001</td>\n",
       "      <td>1.346868</td>\n",
       "      <td>0</td>\n",
       "    </tr>\n",
       "    <tr>\n",
       "      <th>1.594512e+09</th>\n",
       "      <td>22.600000</td>\n",
       "      <td>-0.848630</td>\n",
       "      <td>0</td>\n",
       "    </tr>\n",
       "    <tr>\n",
       "      <th>1.594512e+09</th>\n",
       "      <td>27.000000</td>\n",
       "      <td>1.416844</td>\n",
       "      <td>1</td>\n",
       "    </tr>\n",
       "    <tr>\n",
       "      <th>1.594512e+09</th>\n",
       "      <td>22.600000</td>\n",
       "      <td>-0.848630</td>\n",
       "      <td>0</td>\n",
       "    </tr>\n",
       "    <tr>\n",
       "      <th>...</th>\n",
       "      <td>...</td>\n",
       "      <td>...</td>\n",
       "      <td>...</td>\n",
       "    </tr>\n",
       "    <tr>\n",
       "      <th>1.595203e+09</th>\n",
       "      <td>19.200001</td>\n",
       "      <td>1.285639</td>\n",
       "      <td>0</td>\n",
       "    </tr>\n",
       "    <tr>\n",
       "      <th>1.595203e+09</th>\n",
       "      <td>22.200000</td>\n",
       "      <td>-1.058558</td>\n",
       "      <td>0</td>\n",
       "    </tr>\n",
       "    <tr>\n",
       "      <th>1.595203e+09</th>\n",
       "      <td>26.600000</td>\n",
       "      <td>1.320627</td>\n",
       "      <td>1</td>\n",
       "    </tr>\n",
       "    <tr>\n",
       "      <th>1.595203e+09</th>\n",
       "      <td>19.200001</td>\n",
       "      <td>1.285639</td>\n",
       "      <td>0</td>\n",
       "    </tr>\n",
       "    <tr>\n",
       "      <th>1.595203e+09</th>\n",
       "      <td>22.200000</td>\n",
       "      <td>-1.067305</td>\n",
       "      <td>0</td>\n",
       "    </tr>\n",
       "  </tbody>\n",
       "</table>\n",
       "<p>396528 rows × 3 columns</p>\n",
       "</div>"
      ],
      "text/plain": [
       "                   temp     humid  lights\n",
       "ts                                       \n",
       "1.594512e+09  22.700000 -0.839883       0\n",
       "1.594512e+09  19.700001  1.346868       0\n",
       "1.594512e+09  22.600000 -0.848630       0\n",
       "1.594512e+09  27.000000  1.416844       1\n",
       "1.594512e+09  22.600000 -0.848630       0\n",
       "...                 ...       ...     ...\n",
       "1.595203e+09  19.200001  1.285639       0\n",
       "1.595203e+09  22.200000 -1.058558       0\n",
       "1.595203e+09  26.600000  1.320627       1\n",
       "1.595203e+09  19.200001  1.285639       0\n",
       "1.595203e+09  22.200000 -1.067305       0\n",
       "\n",
       "[396528 rows x 3 columns]"
      ]
     },
     "execution_count": 18,
     "metadata": {},
     "output_type": "execute_result"
    }
   ],
   "source": [
    "y = dataClean2['condition']\n",
    "X = dataClean2[['temp', 'humid', 'lights']]\n",
    "X"
   ]
  },
  {
   "cell_type": "code",
   "execution_count": 19,
   "id": "e5801f42",
   "metadata": {},
   "outputs": [
    {
     "data": {
      "text/plain": [
       "ts\n",
       "1.594512e+09    2\n",
       "1.594512e+09    0\n",
       "1.594512e+09    2\n",
       "1.594512e+09    1\n",
       "1.594512e+09    2\n",
       "               ..\n",
       "1.595203e+09    0\n",
       "1.595203e+09    2\n",
       "1.595203e+09    1\n",
       "1.595203e+09    0\n",
       "1.595203e+09    2\n",
       "Name: condition, Length: 396528, dtype: int32"
      ]
     },
     "execution_count": 19,
     "metadata": {},
     "output_type": "execute_result"
    }
   ],
   "source": [
    "y"
   ]
  },
  {
   "cell_type": "markdown",
   "id": "03561d06",
   "metadata": {
    "papermill": {
     "duration": 0.043971,
     "end_time": "2021-07-30T17:17:55.766887",
     "exception": false,
     "start_time": "2021-07-30T17:17:55.722916",
     "status": "completed"
    },
    "tags": []
   },
   "source": [
    "## Data Splitting"
   ]
  },
  {
   "cell_type": "code",
   "execution_count": null,
   "id": "f19b703b",
   "metadata": {},
   "outputs": [],
   "source": []
  }
 ],
 "metadata": {
  "kernelspec": {
   "display_name": "Python 3 (ipykernel)",
   "language": "python",
   "name": "python3"
  },
  "language_info": {
   "codemirror_mode": {
    "name": "ipython",
    "version": 3
   },
   "file_extension": ".py",
   "mimetype": "text/x-python",
   "name": "python",
   "nbconvert_exporter": "python",
   "pygments_lexer": "ipython3",
   "version": "3.7.0"
  },
  "papermill": {
   "default_parameters": {},
   "duration": 41.843594,
   "end_time": "2021-07-30T17:18:10.984344",
   "environment_variables": {},
   "exception": null,
   "input_path": "__notebook__.ipynb",
   "output_path": "__notebook__.ipynb",
   "parameters": {},
   "start_time": "2021-07-30T17:17:29.140750",
   "version": "2.3.3"
  }
 },
 "nbformat": 4,
 "nbformat_minor": 5
}
